{
 "cells": [
  {
   "cell_type": "markdown",
   "metadata": {},
   "source": [
    "# 1. Web Development"
   ]
  },
  {
   "cell_type": "markdown",
   "metadata": {},
   "source": []
  },
  {
   "cell_type": "markdown",
   "metadata": {},
   "source": [
    "## Table of Contents"
   ]
  },
  {
   "cell_type": "markdown",
   "metadata": {},
   "source": [
    "1. Overview\n",
    "2. Tools\n",
    "3. Architecture\n",
    "4. Back-End\n",
    "5. Front-End Templates\n",
    "6. Models\n",
    "7. Testing\n",
    "9. Exercise"
   ]
  },
  {
   "cell_type": "markdown",
   "metadata": {},
   "source": [
    "## 1. Overview"
   ]
  },
  {
   "cell_type": "markdown",
   "metadata": {},
   "source": [
    "In this part of the workshop, we'll learn about how to get started creating web applications that we'll later fill in with \n",
    "generated data to create a proof of concept, or maybe even the real deal. Before we begin though, let's talk about what \n",
    "microservices are and how to use them.\n",
    "\n",
    "**What are microservices?**\n",
    "Microservices are an architectural approach to building applications as a collection of small and modular, \n",
    "independently deployable services.\n",
    "\n",
    "**What are machine learning microservices?**\n",
    "Machine learning microservices apply this approach to ML systems by decomposing them into smaller \n",
    "services that each focus on a specific capability or model. Some examples of machine learning microservices:\n",
    "- Model Training Service - Handles training ML models on new data.\n",
    "- Model Serving Service - Deploys trained models and provides predictions/inferences. \n",
    "- Data Processing Pipeline - Microservices for data ingestion, cleaning, preprocessing.\n",
    "- Model Monitoring Service - Tracks model performance and drift.\n",
    "- Experiment Tracking Service - Logs model experiments and results.\n",
    "\n",
    "The benefits of using microservices for machine learning include:\n",
    "\n",
    "- Independent scaling - Can allocate more resources to demanding services.\n",
    "- Fault isolation - If one service fails, others are not affected.\n",
    "- Flexible deployment - Can rapidly deploy updates to individual services.\n",
    "- Polyglot support - Mix languages/frameworks within services.\n",
    "- Organizational alignment - Teams can own discrete services.\n",
    "\n",
    "The main challenges are the added complexity of distributed systems and the need for coordination \n",
    "between services. Clear communication protocols and well-defined APIs are essential.\n",
    "\n",
    "Overall, microservices enable faster iteration and more robust and resilient ML systems, but require \n",
    "more up-front design and infrastructure coordination.\n",
    "\n",
    "Let's go over the tools we'll be using in this section."
   ]
  },
  {
   "cell_type": "markdown",
   "metadata": {},
   "source": [
    "## 2. Tools"
   ]
  },
  {
   "cell_type": "markdown",
   "metadata": {},
   "source": [
    "For this section, we will be using the following tools.\n",
    "\n",
    "- FastAPI: FastAPI is like having a team of skilled architects and builders for constructing a \n",
    "house quickly and efficiently. It provides clear blueprints (API endpoints) and customization \n",
    "options, ensuring rapid development of robust and personalized APIs.\n",
    "- HTML: HTML is a markup language for building websites.\n",
    "- Tailwind CSS: a powerful CSS framework for building responsive websites.\n",
    "- Jinja2: a templating tool that allows you to write HTML templates."
   ]
  },
  {
   "cell_type": "markdown",
   "metadata": {},
   "source": [
    "## 3. Architecture"
   ]
  },
  {
   "cell_type": "markdown",
   "metadata": {},
   "source": [
    "![archi1](../images/architecture_1.png)\n",
    "\n",
    "Every application or system needs an architecture, and even thought these don't need to be built into a diagram, it is \n",
    "good practice to visualize how we want the system to look like and function before we get to coding. Let's start there.\n",
    "\n",
    "We will need:\n",
    "- a back-end\n",
    "- a front-end\n",
    "- 2 machine learning applications\n",
    "- tests\n",
    "- A DataBase (optional for this tutorial)"
   ]
  },
  {
   "cell_type": "markdown",
   "metadata": {},
   "source": [
    "## 4. The Back-End"
   ]
  },
  {
   "cell_type": "markdown",
   "metadata": {},
   "source": [
    "Here's an attempt to describe the front-end and back-end of a microservices application using analogies:\n",
    "\n",
    "The front-end is like a traveler exploring a foreign city, navigating between sites and activities. It \n",
    "acts as the user interface, calling different services to assemble experiences. The React/Vue UI is the \n",
    "traveler's map, guiding them between locations. Redux/Flux stores are travel journals, recording visits \n",
    "to services. APIs are transit systems, with protocols like GraphQL as subway maps. User auth is visa \n",
    "security, granting access privileges.\n",
    "\n",
    "The back-end is like a bustling marketplace, full of vendors running independent shops. Services are \n",
    "merchant stalls, focused on specific capabilities. Data pipelines act as supply chains, moving inventory \n",
    "between stalls. Monitoring services are the market inspector, checking goods and stall conditions. APIs are \n",
    "the signboards and directions that connect the marketplace. Scaling changes the number of vendor stalls. New \n",
    "capabilities are added by launching new pop-up shops.\n",
    "\n",
    "To travel the market (use the app), the front-end explorer (UI) relies on the directions (APIs) to visit \n",
    "the right merchants (services). Back-end organization and protocols enable smooth exploration. Microservices \n",
    "create a thriving software bazaar!\n",
    "\n",
    "Let's begin with an example server that has one kind of API. Every time we call our API we'll get a joke back."
   ]
  },
  {
   "cell_type": "code",
   "execution_count": 1,
   "metadata": {},
   "outputs": [
    {
     "name": "stdout",
     "output_type": "stream",
     "text": [
      "Writing ../src/examples/jokes.py\n"
     ]
    }
   ],
   "source": [
    "%%writefile ../src/examples/jokes.py\n",
    "\n",
    "from fastapi import FastAPI\n",
    "import pyjokes\n",
    "\n",
    "app = FastAPI()\n",
    "\n",
    "@app.get(\"/joke\")\n",
    "def get_joke():\n",
    "    joke = pyjokes.get_joke()\n",
    "    return {\"joke\": joke}"
   ]
  },
  {
   "cell_type": "markdown",
   "metadata": {},
   "source": [
    "To run a server with FastAPI we need to use uvicorn or gunicorn. The reason for this is that FastAPI \n",
    "applications need a specialized ASGI (Asynchronous Server Gateway Interface) server to run and to handle \n",
    "concurrent connections efficiently. ASGI servers can handle asynchronous request processing, allowing \n",
    "multiple requests to be processed simultaneously without blocking the execution flow, which is of high \n",
    "importance for high-performance web applications, APIs, and services.\n",
    "\n",
    "Uvicorn and Gunicorn are popular ASGI servers used to run FastAPI applications:\n",
    "\n",
    "To run a FastAPI application using Uvicorn, you can use the following command:\n",
    "   \n",
    "```\n",
    "uvicorn main:app --reload\n",
    "```\n",
    "\n",
    "Here, `main` refers to the Python file (`main.py` in this case), and `app` is the instance of our FastAPI application.\n",
    "\n",
    "Gunicorn is a production-ready ASGI server that can handle high loads and is suitable for deploying \n",
    "demanding applications. Gunicorn provides more configuration options and allows you to scale your \n",
    "application across multiple worker processes or even multiple server instances behind a load balancer\n",
    "\n",
    "To run a FastAPI application using Gunicorn, you can use the following command:\n",
    "   \n",
    "```\n",
    "gunicorn -w 4 -k uvicorn.workers.UvicornWorker main:app\n",
    "```\n",
    "\n",
    "In this command, `-w 4` specifies the number of worker processes (you can adjust this based on your \n",
    "server's resources), and `main:app` refers to the module and FastAPI instance.\n",
    "\n",
    "With that bit of intro out of the way, let's run our app in the terminal.\n",
    "\n",
    "```sh\n",
    "uvicorn main:app --reload\n",
    "```\n",
    "\n",
    "Once our server is up and running, we can send a GET requests to it using the requests library as below."
   ]
  },
  {
   "cell_type": "code",
   "execution_count": 2,
   "metadata": {},
   "outputs": [
    {
     "name": "stdout",
     "output_type": "stream",
     "text": [
      "200 \n",
      " {'joke': \".NET was named .NET so that it wouldn't show up in a Unix directory listing.\"}\n"
     ]
    }
   ],
   "source": [
    "import requests\n",
    "\n",
    "response = requests.get(\"http://localhost:8000/joke\")\n",
    "print(response.status_code, \"\\n\", response.json())"
   ]
  },
  {
   "cell_type": "markdown",
   "metadata": {},
   "source": [
    "Please keep your expectations low and your dad jokes tolerance high with these examples. The \n",
    "`pyjokes` library can be a hit and miss with the quality of the jokes.🫣\n",
    "\n",
    "One of the cool features of FastAPI is that comes with support for [swagger documentation](https://swagger.io/docs/). \n",
    "This means that the kinds of requests your users can make to your microservices built with FastAPI \n",
    "will be readily available at the `http:localhost:8000/docs` endpoint. For example,\n",
    "\n",
    "![swag_1](../images/swagger1.png)\n",
    "\n",
    "and you also get visibility on each method.\n",
    "\n",
    "![swag_2](../images/swagger2.png)"
   ]
  },
  {
   "cell_type": "markdown",
   "metadata": {},
   "source": [
    "### Exercise"
   ]
  },
  {
   "cell_type": "markdown",
   "metadata": {},
   "source": [
    "Download a package a create a new API that, when called, returns something back. You can get as \n",
    "creative as you'd like to with the result. 😎\n",
    "\n",
    "Here are some examples:\n",
    "- `PyDictionary`\n",
    "- `pyqrcode`\n",
    "- `pyshorteners`\n",
    "- `auto_corrector`"
   ]
  },
  {
   "cell_type": "code",
   "execution_count": null,
   "metadata": {},
   "outputs": [],
   "source": []
  },
  {
   "cell_type": "code",
   "execution_count": null,
   "metadata": {},
   "outputs": [],
   "source": []
  },
  {
   "cell_type": "markdown",
   "metadata": {},
   "source": [
    "Now that we know a bit about how we can create APIs, let build the back-end of our first application."
   ]
  },
  {
   "cell_type": "code",
   "execution_count": 3,
   "metadata": {},
   "outputs": [
    {
     "name": "stdout",
     "output_type": "stream",
     "text": [
      "Writing ../src/main.py\n"
     ]
    }
   ],
   "source": [
    "%%writefile ../src/main.py\n",
    "\n",
    "from fastapi import FastAPI, Request\n",
    "\n",
    "app = FastAPI()\n",
    "\n",
    "@app.get(\"/\")\n",
    "async def read_root(request: Request):\n",
    "    pass\n",
    "\n",
    "@app.get(\"/service1\")\n",
    "async def read_page1(request: Request):\n",
    "    pass\n",
    "\n",
    "@app.get(\"/service2\")\n",
    "async def read_page2(request: Request):\n",
    "    pass"
   ]
  },
  {
   "cell_type": "markdown",
   "metadata": {},
   "source": [
    "Although the file above needs a bit of modification, it already contains a good blueprint for our backend. Let's \n",
    "unpack the file above.\n",
    "\n",
    "In the snippet above, we created an application with 3 components:\n",
    "1. A home route\n",
    "2. A page with some service\n",
    "3. Another page with another service\n",
    "\n",
    "These 3 pieces will come up as `your_kul_website.com` (the home page), `your_kul_website.com/service1`, \n",
    "and `your_kul_website.com/service2`.\n",
    "\n",
    "Each of these services will have a front-end template, and the functionality within each \n",
    "could be composed of multiple services as well (as we will see shortly)."
   ]
  },
  {
   "cell_type": "markdown",
   "metadata": {},
   "source": [
    "## 5. Front-End Templates"
   ]
  },
  {
   "cell_type": "markdown",
   "metadata": {},
   "source": [
    "As data professionals or machine learning engineers, chances are that we might not have much \n",
    "experience with front-end development, but that can't and shouldn't stop us from being able to put \n",
    "some makeup on our apps. To help us with this, we have Jinja2, a Python library that helps us \n",
    "build templates that add structure and format to the content of our applications.\n",
    "\n",
    "Let's build a template for the home page of our web app. This page will contain \n",
    "- a title\n",
    "- a description\n",
    "- a menu\n",
    "- and blocks to hold the content we'll create with our generative AI models\n",
    "\n",
    "plus a nice look and feel. We will add it to a templates directory step-by-step."
   ]
  },
  {
   "cell_type": "markdown",
   "metadata": {},
   "source": [
    "### 5.1 The Home Page"
   ]
  },
  {
   "cell_type": "code",
   "execution_count": 4,
   "metadata": {},
   "outputs": [
    {
     "name": "stdout",
     "output_type": "stream",
     "text": [
      "Writing ../templates/home.html\n"
     ]
    }
   ],
   "source": [
    "%%writefile ../templates/home.html\n",
    "\n",
    "<!DOCTYPE html>\n",
    "<html lang=\"en\">\n",
    "\n",
    "    <head>\n",
    "        <meta charset=\"UTF-8\">\n",
    "        <meta name=\"viewport\" content=\"width=device-width, initial-scale=1.0\">\n",
    "        <title>Creativity as a Service with Machine Learning</title>\n",
    "        <link href=\"https://cdn.jsdelivr.net/npm/tailwindcss@2.2.19/dist/tailwind.min.css\" rel=\"stylesheet\">\n",
    "    </head>\n",
    "\n",
    "    <body class=\"bg-gray-100 p-8\">\n",
    "        <div class=\"text-4xl font-bold mb-8 text-center\">Creativity as a Service with Machine Learning</div>\n",
    "    </body>\n",
    "\n",
    "</html>"
   ]
  },
  {
   "cell_type": "markdown",
   "metadata": {},
   "source": [
    "What we have above is a standard HTML file with\n",
    "- a type --> `DOCTYPE` which tells a web browser that the type of that document is HTML\n",
    "- Container tags\n",
    "  - `<html>`\n",
    "    - a `<head>` --> you can think of this as the settings of the document\n",
    "    - a `<body>` --> this has all of the content of the document\n",
    "- and some style pulled from tailwind.css\n",
    "\n",
    "Now that we have a template, we can update our API one step at a time and initialize our \n",
    "service. If the previous server we instantiated (`jokes.py`) is still running, make sure to \n",
    "stop it first with Ctrl + C in your terminal."
   ]
  },
  {
   "cell_type": "code",
   "execution_count": 8,
   "metadata": {},
   "outputs": [
    {
     "name": "stdout",
     "output_type": "stream",
     "text": [
      "Overwriting ../main.py\n"
     ]
    }
   ],
   "source": [
    "%%writefile ../main.py\n",
    "\n",
    "from fastapi import FastAPI, Request\n",
    "from fastapi.templating import Jinja2Templates\n",
    "\n",
    "app = FastAPI()\n",
    "\n",
    "templates = Jinja2Templates(directory=\"./templates\")\n",
    "\n",
    "@app.get(\"/\")\n",
    "async def read_root(request: Request):\n",
    "    return templates.TemplateResponse(\"home.html\", {\"request\": request})"
   ]
  },
  {
   "cell_type": "markdown",
   "metadata": {},
   "source": [
    "Notice that FastAPI comes with a handy class to tell it where our templates live. Once we point \n",
    "it to the right directory, we can write the name of the template we want that route to use and \n",
    "send it to users when they request it.\n",
    "\n",
    "In your terminal, run the following command:\n",
    "\n",
    "```bash\n",
    "uvicorn main:app --reload\n",
    "```\n",
    "and then open the browser at `http://localhost:8000/`. You should be able to see the following home page.\n",
    "\n",
    "![hp](../images/home_screen.png)\n",
    "\n",
    "Notice that there is some separation of concerns happening here. If could, realistically, have a team \n",
    "members asynchronously focusing on model development, others would be working on these templates, and \n",
    "others on the back-end of our desktop app, website, mobile app, game, edge device, etc."
   ]
  },
  {
   "cell_type": "markdown",
   "metadata": {},
   "source": [
    "### 5.2 Adding a Menu"
   ]
  },
  {
   "cell_type": "markdown",
   "metadata": {},
   "source": [
    "Now that our website has a title, let's create the menu and a description for it."
   ]
  },
  {
   "cell_type": "code",
   "execution_count": 9,
   "metadata": {},
   "outputs": [
    {
     "name": "stdout",
     "output_type": "stream",
     "text": [
      "Overwriting ../templates/home.html\n"
     ]
    }
   ],
   "source": [
    "%%writefile templates/page1.html\n",
    "\n",
    "<!DOCTYPE html>\n",
    "<html lang=\"en\">\n",
    "\n",
    "<head>\n",
    "    <meta charset=\"UTF-8\">\n",
    "    <meta name=\"viewport\" content=\"width=device-width, initial-scale=1.0\">\n",
    "    <title>Creativity as a Service with Machine Learning</title>\n",
    "    <link href=\"https://cdn.jsdelivr.net/npm/tailwindcss@2.2.19/dist/tailwind.min.css\" rel=\"stylesheet\">\n",
    "</head>\n",
    "\n",
    "<body class=\"bg-gray-100 p-8\">\n",
    "    <div class=\"text-4xl font-bold mb-8 text-center\">Creativity as a Service with Machine Learning</div>\n",
    "\n",
    "    <!-- Navigation Menu -->\n",
    "    <div class=\"flex justify-center mb-8\">\n",
    "        <a href=\"#\" class=\"mx-4 px-6 py-2 bg-blue-500 text-white rounded-full hover:bg-blue-700 transition duration-300\">Home</a>\n",
    "        <a href=\"#service1\" class=\"mx-4 px-6 py-2 bg-green-500 text-white rounded-full hover:bg-green-700 transition duration-300\">Service 1</a>\n",
    "        <a href=\"#service2\" class=\"mx-4 px-6 py-2 bg-indigo-500 text-white rounded-full hover:bg-indigo-700 transition duration-300\">Service 2</a>\n",
    "    </div>\n",
    "\n",
    "    <div class=\"text-lg mb-8 text-center\">\n",
    "        Unlock your creativity with our innovative machine learning services. Explore a world of possibilities where technology meets artistry.\n",
    "    </div>\n",
    "\n",
    "\n",
    "</body>\n",
    "\n",
    "</html>"
   ]
  },
  {
   "cell_type": "markdown",
   "metadata": {},
   "source": [
    "If you refresh the page, you will now see the following output:\n",
    "\n",
    "![svc2](../images/home_screen2.png)\n",
    "\n",
    "Let's create now a first service and call it `page1.html`."
   ]
  },
  {
   "cell_type": "code",
   "execution_count": null,
   "metadata": {},
   "outputs": [
    {
     "name": "stdout",
     "output_type": "stream",
     "text": [
      "Writing ../templates/page1.html\n"
     ]
    }
   ],
   "source": [
    "%%writefile ../templates/page1.html\n",
    "\n",
    "<!DOCTYPE html>\n",
    "<html lang=\"en\">\n",
    "\n",
    "<head>\n",
    "    <meta charset=\"UTF-8\">\n",
    "    <meta name=\"viewport\" content=\"width=device-width, initial-scale=1.0\">\n",
    "    <title>Machine Learning Microservice</title>\n",
    "    <link href=\"https://cdn.jsdelivr.net/npm/tailwindcss@2.2.16/dist/tailwind.min.css\" rel=\"stylesheet\">\n",
    "    <style>\n",
    "        body {height: 100vh; display: flex; flex-direction: column; justify-content: center; align-items: center;}\n",
    "        .container {text-align: center;}\n",
    "\n",
    "        #launchButton {display: none;}\n",
    "        #launchButtonLabel {\n",
    "            cursor: pointer; background-color: #4CAF50; color: white; padding: 14px 32px; text-align: center; text-decoration: none;\n",
    "            display: inline-block; font-size: 16px; margin-top: 20px; border-radius: 8px; transition: background-color 0.3s ease;\n",
    "        }\n",
    "        #launchButton:checked+#launchButtonLabel {background-color: #45a049;}\n",
    "        #gradioIframe {width: 80vw; height: 80vh; border: 1px solid #ccc; border-radius: 10px; display: none; margin-top: 20px;}\n",
    "        #launchButton:checked~#gradioIframe {display: block;}\n",
    "    </style>\n",
    "</head>\n",
    "<body>\n",
    "    <div class=\"container bg-white p-8 rounded shadow-md w-full text-center\">\n",
    "        <h1 class=\"text-3xl font-bold mb-6\">Machine Learning Microservice 1</h1>\n",
    "        <p class=\"text-gray-600 mb-8\">This microservice provides access to a powerful machine learning model.</p>\n",
    "        <input type=\"checkbox\" id=\"launchButton\" class=\"hidden\">\n",
    "        <label for=\"launchButton\" id=\"launchButtonLabel\">Launch ML App</label>\n",
    "        <div id=\"gradioIframe\" class=\"mt-6 hidden\">\n",
    "            <iframe src=\"\" frameborder=\"0\" class=\"w-full h-full\"></iframe>\n",
    "        </div>\n",
    "    </div>\n",
    "</body>\n",
    "</html>"
   ]
  },
  {
   "cell_type": "markdown",
   "metadata": {},
   "source": [
    "Next, we'll need to tell FastAPI how to get ahold of the template we just created. We'll do so by adding a new get method."
   ]
  },
  {
   "cell_type": "code",
   "execution_count": 11,
   "metadata": {},
   "outputs": [
    {
     "name": "stdout",
     "output_type": "stream",
     "text": [
      "Appending to ../main.py\n"
     ]
    }
   ],
   "source": [
    "%%writefile -a ../main.py\n",
    "\n",
    "@app.get(\"/service1\")\n",
    "async def read_page2(request: Request):\n",
    "    return templates.TemplateResponse(\"page1.html\", {\"request\": request})"
   ]
  },
  {
   "cell_type": "markdown",
   "metadata": {},
   "source": [
    "We can examine the new template at `http://localhost:8000/service1` without having to restart our service.\n",
    "\n",
    "While there is nothing to see yet when we click the button to show a machine learning app, we will have a app \n",
    "there very soon. 😎 \n",
    "\n",
    "Finally, we can add the containers to our home template and finish it, for now. 😌"
   ]
  },
  {
   "cell_type": "code",
   "execution_count": 12,
   "metadata": {},
   "outputs": [
    {
     "name": "stdout",
     "output_type": "stream",
     "text": [
      "Overwriting ../templates/home.html\n"
     ]
    }
   ],
   "source": [
    "%%writefile ../templates/home.html\n",
    "\n",
    "<!DOCTYPE html>\n",
    "<html lang=\"en\">\n",
    "\n",
    "<head>\n",
    "    <meta charset=\"UTF-8\">\n",
    "    <meta name=\"viewport\" content=\"width=device-width, initial-scale=1.0\">\n",
    "    <title>Creativity as a Service with Machine Learning</title>\n",
    "    <link href=\"https://cdn.jsdelivr.net/npm/tailwindcss@2.2.19/dist/tailwind.min.css\" rel=\"stylesheet\">\n",
    "</head>\n",
    "\n",
    "<body class=\"bg-gray-100 p-8\">\n",
    "    <div class=\"text-4xl font-bold mb-8 text-center\">Creativity as a Service with Machine Learning</div>\n",
    "\n",
    "    <!-- Navigation Menu -->\n",
    "    <div class=\"flex justify-center mb-8\">\n",
    "        <a href=\"#\" class=\"mx-4 px-6 py-2 bg-blue-500 text-white rounded-full hover:bg-blue-700 transition duration-300\">Home</a>\n",
    "        <a href=\"#service1\" class=\"mx-4 px-6 py-2 bg-green-500 text-white rounded-full hover:bg-green-700 transition duration-300\">Service 1</a>\n",
    "        <a href=\"#service2\" class=\"mx-4 px-6 py-2 bg-indigo-500 text-white rounded-full hover:bg-indigo-700 transition duration-300\">Service 2</a>\n",
    "    </div>\n",
    "\n",
    "    <div class=\"text-lg mb-8 text-center\">\n",
    "        Unlock your creativity with our innovative machine learning services. Explore a world of possibilities where technology meets artistry.\n",
    "    </div>\n",
    "\n",
    "    <div class=\"grid grid-cols-1 md:grid-cols-2 lg:grid-cols-3 gap-4\">\n",
    "        <!-- Container 1 -->\n",
    "        <div class=\"border p-4 rounded-lg shadow-md\">\n",
    "            <div class=\"mb-2\">Asset 1</div>\n",
    "            <img src=\"path/to/asset1.jpg\" alt=\"Asset 1\" class=\"mb-2 w-full h-auto\">\n",
    "            <div>Text 1</div>\n",
    "        </div>\n",
    "        \n",
    "        <!-- Container 2 -->\n",
    "        <div class=\"border p-4 rounded-lg shadow-md\">\n",
    "            <div class=\"mb-2\">Asset 2</div>\n",
    "            <video src=\"path/to/asset2.mp4\" controls class=\"mb-2 w-full\"></video>\n",
    "            <div>Text 2</div>\n",
    "        </div>\n",
    "        \n",
    "        <!-- Container 3 -->\n",
    "        <div class=\"border p-4 rounded-lg shadow-md\">\n",
    "            <div class=\"mb-2\">Asset 3</div>\n",
    "            <img src=\"path/to/asset3.jpg\" alt=\"Asset 3\" class=\"mb-2 w-full h-auto\">\n",
    "            <div>Text 3</div>\n",
    "        </div>\n",
    "        \n",
    "        <!-- Container 4 -->\n",
    "        <div class=\"border p-4 rounded-lg shadow-md\">\n",
    "            <div class=\"mb-2\">Asset 4</div>\n",
    "            <audio src=\"path/to/asset4.mp3\" controls class=\"mb-2 w-full\"></audio>\n",
    "            <div>Text 4</div>\n",
    "        </div>\n",
    "        \n",
    "        <!-- Container 5 -->\n",
    "        <div class=\"border p-4 rounded-lg shadow-md\">\n",
    "            <div class=\"mb-2\">Asset 5</div>\n",
    "            <img src=\"path/to/asset5.jpg\" alt=\"Asset 5\" class=\"mb-2 w-full h-auto\">\n",
    "            <div>Text 5</div>\n",
    "        </div>\n",
    "        \n",
    "        <!-- Container 6 -->\n",
    "        <div class=\"border p-4 rounded-lg shadow-md\">\n",
    "            <div class=\"mb-2\">Asset 6</div>\n",
    "            <video src=\"path/to/asset6.mp4\" controls class=\"mb-2 w-full\"></video>\n",
    "            <div>Text 6</div>\n",
    "        </div>\n",
    "        \n",
    "        <!-- Container 7 -->\n",
    "        <div class=\"border p-4 rounded-lg shadow-md\">\n",
    "            <div class=\"mb-2\">Asset 7</div>\n",
    "            <img src=\"path/to/asset7.jpg\" alt=\"Asset 7\" class=\"mb-2 w-full h-auto\">\n",
    "            <div>Text 7</div>\n",
    "        </div>\n",
    "        \n",
    "        <!-- Container 8 -->\n",
    "        <div class=\"border p-4 rounded-lg shadow-md\">\n",
    "            <div class=\"mb-2\">Asset 8</div>\n",
    "            <audio src=\"path/to/asset8.mp3\" controls class=\"mb-2 w-full\"></audio>\n",
    "            <div>Text 8</div>\n",
    "        </div>\n",
    "        \n",
    "        <!-- Container 9 -->\n",
    "        <div class=\"border p-4 rounded-lg shadow-md\">\n",
    "            <div class=\"mb-2\">Asset 9</div>\n",
    "            <img src=\"path/to/asset9.jpg\" alt=\"Asset 9\" class=\"mb-2 w-full h-auto\">\n",
    "            <div>Text 9</div>\n",
    "        </div>\n",
    "        \n",
    "        <!-- Container 10 -->\n",
    "        <div class=\"border p-4 rounded-lg shadow-md\">\n",
    "            <div class=\"mb-2\">Asset 10</div>\n",
    "            <video src=\"path/to/asset10.mp4\" controls class=\"mb-2 w-full\"></video>\n",
    "            <div>Text 10</div>\n",
    "        </div>\n",
    "    </div>\n",
    "</body>\n",
    "\n",
    "</html>"
   ]
  },
  {
   "cell_type": "markdown",
   "metadata": {},
   "source": [
    "If you navigate to our app again, you'll notice that we have empty containers inside the application waiting to be \n",
    "filled up. In the next section, we'll start creating content for it and adding it to our app."
   ]
  },
  {
   "cell_type": "markdown",
   "metadata": {},
   "source": [
    "## 7. Testing"
   ]
  },
  {
   "cell_type": "markdown",
   "metadata": {},
   "source": [
    "When testing your FastAPI app with pytest, you can write various types of tests to ensure that \n",
    "different aspects of your application are working correctly. Here are some types of tests you can consider:\n",
    "\n",
    "1. **Unit Tests:**\n",
    "   - Test individual functions or methods in isolation to ensure they work as expected.\n",
    "   - For example, you can test the function that fetches jokes from the `pyjokes` library to ensure it returns valid jokes.\n",
    "\n",
    "2. **Integration Tests:**\n",
    "   - Test the interactions between different components of your app.\n",
    "   - For FastAPI apps, this can involve testing how different endpoints interact and whether the data flow between them is correct.\n",
    "\n",
    "3. **Endpoint Tests:**\n",
    "   - Test each endpoint of your API to ensure they handle various input scenarios correctly and return the expected responses.\n",
    "   - Use pytest fixtures to mock HTTP requests and test different HTTP methods (GET, POST, etc.) and request payloads.\n",
    "\n",
    "4. **Error Handling Tests:**\n",
    "   - Test how your app handles different types of errors, such as invalid requests or server errors.\n",
    "   - Ensure that appropriate error responses (with correct status codes and error messages) are returned.\n",
    "\n",
    "5. **Security Tests:**\n",
    "   - Test security features, such as authentication and authorization mechanisms.\n",
    "   - Ensure that unauthenticated users cannot access protected endpoints and that authorized users can access them appropriately.\n",
    "\n",
    "6. **Performance Tests:**\n",
    "   - Test the performance of your app by simulating a large number of requests and measuring response times.\n",
    "   - Identify potential bottlenecks and optimize your code or infrastructure as needed.\n",
    "\n",
    "7. **Edge Case Tests:**\n",
    "   - Test your app with edge cases, such as empty inputs, boundary values, or unexpected data formats.\n",
    "   - Ensure your app behaves correctly and gracefully in these scenarios.\n",
    "\n",
    "8. **Data Persistence Tests (if applicable):**\n",
    "   - If your app interacts with a database, test database operations (e.g., CRUD operations) to ensure data integrity.\n",
    "   - Use fixtures to set up and tear down test data for database-related tests.\n",
    "\n",
    "When writing tests, consider using pytest fixtures to create reusable setup code for your tests. Also, \n",
    "uses the `requests` library in combination with pytest to send HTTP requests to your app's endpoints and validate the responses.\n",
    "\n",
    "By covering these different aspects of your FastAPI app with tests, you can increase your confidence in its correctness, reliability, and security."
   ]
  },
  {
   "cell_type": "markdown",
   "metadata": {},
   "source": [
    "Here are some examples of how you can write tests for your FastAPI app using pytest, covering different testing approaches:\n",
    "\n",
    "1. **Unit Tests:**\n",
    "\n",
    "Let's say you have a utility function in a module called `utils.py` that fetches jokes:\n",
    "\n",
    "```python\n",
    "# utils.py\n",
    "import pyjokes\n",
    "\n",
    "def get_random_joke():\n",
    "    return pyjokes.get_joke()\n",
    "```\n",
    "\n",
    "You can write a unit test for this function:\n",
    "\n",
    "```python\n",
    "# test_utils.py\n",
    "from utils import get_random_joke\n",
    "\n",
    "def test_get_random_joke():\n",
    "    joke = get_random_joke()\n",
    "    assert isinstance(joke, str)\n",
    "    assert len(joke) > 0\n",
    "```\n",
    "\n",
    "2. **Integration Tests:**\n",
    "\n",
    "For integration tests, you can test the interactions between different components of your app. Here's an example using FastAPI's `TestClient`:\n",
    "\n",
    "```python\n",
    "# test_integration.py\n",
    "from fastapi.testclient import TestClient\n",
    "from main import app\n",
    "\n",
    "client = TestClient(app)\n",
    "\n",
    "def test_get_joke_endpoint():\n",
    "    response = client.get(\"/joke\")\n",
    "    assert response.status_code == 200\n",
    "    data = response.json()\n",
    "    assert \"joke\" in data\n",
    "    assert isinstance(data[\"joke\"], str)\n",
    "    assert len(data[\"joke\"]) > 0\n",
    "```\n",
    "\n",
    "3. **Endpoint Tests:**\n",
    "\n",
    "You can write tests for specific endpoints, verifying their behavior for different scenarios:\n",
    "\n",
    "```python\n",
    "# test_endpoints.py\n",
    "from fastapi.testclient import TestClient\n",
    "from main import app\n",
    "\n",
    "client = TestClient(app)\n",
    "\n",
    "def test_get_joke_endpoint():\n",
    "    response = client.get(\"/joke\")\n",
    "    assert response.status_code == 200\n",
    "    data = response.json()\n",
    "    assert \"joke\" in data\n",
    "    assert isinstance(data[\"joke\"], str)\n",
    "    assert len(data[\"joke\"]) > 0\n",
    "\n",
    "# Add more endpoint tests as needed\n",
    "```\n",
    "\n",
    "4. **Error Handling Tests:**\n",
    "\n",
    "Test how your app handles errors:\n",
    "\n",
    "```python\n",
    "# test_error_handling.py\n",
    "from fastapi.testclient import TestClient\n",
    "from main import app\n",
    "\n",
    "client = TestClient(app)\n",
    "\n",
    "def test_invalid_endpoint():\n",
    "    response = client.get(\"/invalid_endpoint\")\n",
    "    assert response.status_code == 404\n",
    "    assert response.json() == {\"detail\": \"Not Found\"}\n",
    "\n",
    "# Add more error handling tests as needed\n",
    "```\n",
    "\n",
    "5. **Security Tests:**\n",
    "\n",
    "Test authentication and authorization mechanisms (assuming your app has authentication logic):\n",
    "\n",
    "```python\n",
    "# test_security.py\n",
    "from fastapi.testclient import TestClient\n",
    "from main import app\n",
    "\n",
    "client = TestClient(app)\n",
    "\n",
    "def test_authenticated_endpoint():\n",
    "    # Assuming you have authentication logic and obtain a token\n",
    "    headers = {\"Authorization\": \"Bearer <your_token>\"}\n",
    "    response = client.get(\"/authenticated_endpoint\", headers=headers)\n",
    "    assert response.status_code == 200\n",
    "\n",
    "def test_unauthenticated_endpoint():\n",
    "    response = client.get(\"/authenticated_endpoint\")\n",
    "    assert response.status_code == 401\n",
    "```\n",
    "\n",
    "These are some initial examples to get you started. Depending on your app's complexity, you might \n",
    "need more elaborate tests and additional libraries (such as `pytest-mock` for mocking) to handle \n",
    "specific scenarios. Make sure to structure your tests based on your application's architecture and requirements."
   ]
  },
  {
   "cell_type": "markdown",
   "metadata": {},
   "source": [
    "## 9. Exercise"
   ]
  },
  {
   "cell_type": "markdown",
   "metadata": {},
   "source": [
    "1. Find an HTML template online and add it as a new file to the `templates` directory.\n",
    "2. Find an app that seems interesting to you in the hugging face hub and then copy it to a file \n",
    "in the servers directory and tweak it to fit your needs. (e.g. change the name of your app, add \n",
    "a different model, or change the layout of the app.)\n",
    "3. Create a new method for our `main.app` server and add your app to it."
   ]
  }
 ],
 "metadata": {
  "kernelspec": {
   "display_name": "ml_svcs_p3",
   "language": "python",
   "name": "python3"
  },
  "language_info": {
   "codemirror_mode": {
    "name": "ipython",
    "version": 3
   },
   "file_extension": ".py",
   "mimetype": "text/x-python",
   "name": "python",
   "nbconvert_exporter": "python",
   "pygments_lexer": "ipython3",
   "version": "3.11.6"
  }
 },
 "nbformat": 4,
 "nbformat_minor": 2
}
